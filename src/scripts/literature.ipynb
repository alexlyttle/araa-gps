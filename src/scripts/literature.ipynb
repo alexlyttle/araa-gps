{
 "cells": [
  {
   "cell_type": "code",
   "execution_count": null,
   "metadata": {},
   "outputs": [],
   "source": [
    "# Required to reset the rcParams for some reason\n",
    "import matplotlib.pyplot as plt\n",
    "\n",
    "plt.plot()\n",
    "plt.style.use([\"default\", \"./araa-gps.mplstyle\"])\n",
    "plt.close()"
   ]
  },
  {
   "cell_type": "code",
   "execution_count": null,
   "metadata": {},
   "outputs": [],
   "source": [
    "import numpy as np\n",
    "from astropy.table import Table\n",
    "\n",
    "from paths import data, figures"
   ]
  },
  {
   "cell_type": "markdown",
   "metadata": {},
   "source": [
    "Data generated from the following query: https://ui.adsabs.harvard.edu/search/filter_database_fq_database=AND&filter_database_fq_database=database%3A%22astronomy%22&fq=%7B!type%3Daqp%20v%3D%24fq_database%7D&fq_database=database%3A%22astronomy%22&q=full%3A%22Gaussian%20Process%22&sort=date%20desc%2C%20bibcode%20desc&p_=0"
   ]
  },
  {
   "cell_type": "code",
   "execution_count": null,
   "metadata": {},
   "outputs": [],
   "source": [
    "data = Table.read(data / \"ads-counts.csv\")\n",
    "data = data[(data[\"Year\"] > 1990) & (data[\"Year\"] <= 2020) & (data[\"Ref Count\"] > 0)]"
   ]
  },
  {
   "cell_type": "code",
   "execution_count": null,
   "metadata": {},
   "outputs": [],
   "source": [
    "plt.plot(data[\"Year\"], data[\"Ref Count\"], \"o\")\n",
    "plt.yscale(\"log\")\n",
    "plt.xlabel(\"publication year\")\n",
    "plt.ylabel(\"number of referred astrophysics\\npapers indexed by ADS\")\n",
    "plt.title('full-text ADS search for \"Gaussian process\"')\n",
    "plt.savefig(figures / \"literature.pdf\", bbox_inches=\"tight\")"
   ]
  },
  {
   "cell_type": "code",
   "execution_count": null,
   "metadata": {},
   "outputs": [],
   "source": []
  }
 ],
 "metadata": {
  "kernelspec": {
   "display_name": "Python 3.10.5 ('araa-gps')",
   "language": "python",
   "name": "python3"
  },
  "language_info": {
   "codemirror_mode": {
    "name": "ipython",
    "version": 3
   },
   "file_extension": ".py",
   "mimetype": "text/x-python",
   "name": "python",
   "nbconvert_exporter": "python",
   "pygments_lexer": "ipython3",
   "version": "3.10.5"
  },
  "vscode": {
   "interpreter": {
    "hash": "37131511e6302b4c680d7a9231cad616a6dbde5e3e7bdd137309d00c60a9825b"
   }
  }
 },
 "nbformat": 4,
 "nbformat_minor": 2
}
