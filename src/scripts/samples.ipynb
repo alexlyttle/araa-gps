{
 "cells": [
  {
   "cell_type": "markdown",
   "metadata": {},
   "source": [
    "# Generating prior samples from a GP"
   ]
  },
  {
   "cell_type": "code",
   "execution_count": null,
   "metadata": {},
   "outputs": [],
   "source": [
    "import matplotlib.pyplot as plt\n",
    "\n",
    "plt.plot()  # Required to reset the rcParams for some reason\n",
    "plt.style.use([\"default\", \"./araa-gps.mplstyle\"])\n",
    "plt.close()"
   ]
  },
  {
   "cell_type": "code",
   "execution_count": null,
   "metadata": {},
   "outputs": [],
   "source": [
    "import jax\n",
    "import jax.numpy as jnp\n",
    "import seaborn as sns\n",
    "from tinygp import GaussianProcess, kernels\n",
    "\n",
    "from paths import figures"
   ]
  },
  {
   "cell_type": "code",
   "execution_count": null,
   "metadata": {},
   "outputs": [],
   "source": [
    "t = jnp.linspace(0, 20, 100)\n",
    "\n",
    "\n",
    "def plot_samples(ax, kernel):\n",
    "    gp = GaussianProcess(kernel, t, diag=1e-5)\n",
    "    y = gp.sample(jax.random.PRNGKey(10), (3,))\n",
    "    ax.plot(t, y.T, \"k\", lw=0.75, alpha=0.8)\n",
    "    ax.axhline(0, color=\"k\", lw=1, alpha=0.5)\n",
    "    ax.set_xlim(t.min(), t.max())\n",
    "    ax.set_ylim(-4.0, 4.0)\n",
    "\n",
    "\n",
    "def plot_grid(title, kernel):\n",
    "    fig, axes = plt.subplots(2, 2, figsize=(4, 4), sharex=True, sharey=True)\n",
    "    plot_samples(axes[0, 0], kernel(1.0))\n",
    "    plot_samples(axes[0, 1], kernel(2.0))\n",
    "    plot_samples(axes[1, 0], 2 * kernel(1.0))\n",
    "    plot_samples(axes[1, 1], 2 * kernel(2.0))\n",
    "    fig.subplots_adjust(hspace=0.1, wspace=0.15)\n",
    "    sns.despine()\n",
    "    for ax in axes[:, 0]:\n",
    "        ax.set_ylabel(\"f(t)\")\n",
    "    for ax in axes[-1, :]:\n",
    "        ax.set_xlabel(\"t\")\n",
    "    fig.suptitle(title)\n",
    "    return fig"
   ]
  },
  {
   "cell_type": "code",
   "execution_count": null,
   "metadata": {},
   "outputs": [],
   "source": [
    "plot_grid(\"Exponential\", kernels.Exp).savefig(\n",
    "    figures / \"samples1.pdf\", bbox_inches=\"tight\"\n",
    ")\n",
    "plot_grid(\"Matérn-3/2\", kernels.Matern32).savefig(\n",
    "    figures / \"samples2.pdf\", bbox_inches=\"tight\"\n",
    ")\n",
    "plot_grid(\"Exponential Squared\", kernels.ExpSquared).savefig(\n",
    "    figures / \"samples3.pdf\", bbox_inches=\"tight\"\n",
    ")"
   ]
  },
  {
   "cell_type": "code",
   "execution_count": null,
   "metadata": {},
   "outputs": [],
   "source": [
    "# plot_grid(\n",
    "#     r\"Exponential Sine Squared ($\\Gamma=1/2$)\",\n",
    "#     lambda scale: 0.8\n",
    "#     * kernels.ExpSquared(2.0)\n",
    "#     * kernels.ExpSineSquared(2 * scale, gamma=1.0)\n",
    "# ).savefig(figures / \"samples4.pdf\", bbox_inches=\"tight\")"
   ]
  }
 ],
 "metadata": {
  "kernelspec": {
   "display_name": "Python 3.10.5 ('araa-gps')",
   "language": "python",
   "name": "python3"
  },
  "language_info": {
   "codemirror_mode": {
    "name": "ipython",
    "version": 3
   },
   "file_extension": ".py",
   "mimetype": "text/x-python",
   "name": "python",
   "nbconvert_exporter": "python",
   "pygments_lexer": "ipython3",
   "version": "3.10.5"
  },
  "vscode": {
   "interpreter": {
    "hash": "37131511e6302b4c680d7a9231cad616a6dbde5e3e7bdd137309d00c60a9825b"
   }
  }
 },
 "nbformat": 4,
 "nbformat_minor": 2
}
