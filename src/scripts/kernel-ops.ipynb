{
 "cells": [
  {
   "cell_type": "code",
   "execution_count": null,
   "metadata": {},
   "outputs": [],
   "source": [
    "import matplotlib.pyplot as plt\n",
    "\n",
    "plt.plot()  # Required to reset the rcParams for some reason\n",
    "plt.style.use([\"default\", \"./araa-gps.mplstyle\"])\n",
    "plt.close()"
   ]
  },
  {
   "cell_type": "code",
   "execution_count": null,
   "metadata": {},
   "outputs": [],
   "source": [
    "import jax\n",
    "import jax.numpy as jnp\n",
    "import numpy as np\n",
    "from tinygp import GaussianProcess, kernels, transforms\n",
    "\n",
    "from paths import figures"
   ]
  },
  {
   "cell_type": "code",
   "execution_count": null,
   "metadata": {},
   "outputs": [],
   "source": [
    "jax.config.update(\"jax_enable_x64\", True)"
   ]
  },
  {
   "cell_type": "code",
   "execution_count": null,
   "metadata": {},
   "outputs": [],
   "source": [
    "class DerivativeKernel(kernels.Kernel):\n",
    "    def __init__(self, kernel):\n",
    "        self.kernel = kernel\n",
    "\n",
    "    def evaluate(self, X1, X2):\n",
    "        t1, d1 = X1\n",
    "        t2, d2 = X2\n",
    "\n",
    "        # Differentiate the kernel function: the first derivative wrt x1\n",
    "        Kp = jax.grad(self.kernel.evaluate, argnums=0)\n",
    "\n",
    "        # ... and the second derivative\n",
    "        Kpp = jax.grad(Kp, argnums=1)\n",
    "\n",
    "        # Evaluate the kernel matrix and all of its relevant derivatives\n",
    "        K = self.kernel.evaluate(t1, t2)\n",
    "        d2K_dx1dx2 = Kpp(t1, t2)\n",
    "\n",
    "        # For stationary kernels, these are related just by a minus sign, but we'll\n",
    "        # evaluate them both separately for generality's sake\n",
    "        dK_dx2 = jax.grad(self.kernel.evaluate, argnums=1)(t1, t2)\n",
    "        dK_dx1 = Kp(t1, t2)\n",
    "\n",
    "        return jnp.where(\n",
    "            d1, jnp.where(d2, d2K_dx1dx2, dK_dx1), jnp.where(d2, dK_dx2, K)\n",
    "        )"
   ]
  },
  {
   "cell_type": "code",
   "execution_count": null,
   "metadata": {},
   "outputs": [],
   "source": [
    "def plot_kernel(base_kernel):\n",
    "    kernel = DerivativeKernel(base_kernel)\n",
    "\n",
    "    N = 500\n",
    "    dt = np.linspace(-7.5, 7.5, N)\n",
    "\n",
    "    k00 = kernel(\n",
    "        (jnp.zeros((1)), jnp.zeros((1), dtype=bool)),\n",
    "        (dt, np.zeros(N, dtype=bool)),\n",
    "    )[0]\n",
    "    k11 = kernel(\n",
    "        (jnp.zeros((1)), jnp.ones((1), dtype=bool)),\n",
    "        (dt, np.ones(N, dtype=bool)),\n",
    "    )[0]\n",
    "    k01 = kernel(\n",
    "        (jnp.zeros((1)), jnp.zeros((1), dtype=bool)),\n",
    "        (dt, np.ones(N, dtype=bool)),\n",
    "    )[0]\n",
    "    k10 = kernel(\n",
    "        (jnp.zeros((1)), jnp.ones((1), dtype=bool)),\n",
    "        (dt, np.zeros(N, dtype=bool)),\n",
    "    )[0]\n",
    "\n",
    "    X = (\n",
    "        np.concatenate((dt, dt)),\n",
    "        np.concatenate((np.zeros(N, dtype=bool), np.ones(N, dtype=bool))),\n",
    "    )\n",
    "    gp = GaussianProcess(kernel, X)\n",
    "    y_ = gp.sample(jax.random.PRNGKey(0))\n",
    "    y = y_[:N]\n",
    "    ydot = y_[N:]\n",
    "\n",
    "    fig, axes = plt.subplot_mosaic(\n",
    "        [[\"A\", \"B\"], [\"A\", \"C\"]],\n",
    "        constrained_layout=True,\n",
    "        figsize=(8, 4),\n",
    "    )\n",
    "    ax = axes[\"A\"]\n",
    "    ax.plot(dt, k00, \"-\", label=r\"$\\mathrm{cov}(f,\\,f)$\", lw=2)\n",
    "    ax.plot(dt, k01, \"--\", label=r\"$\\mathrm{cov}(f,\\,\\mathrm{d}f)$\", lw=2)\n",
    "    ax.plot(dt, k10, \"-.\", label=r\"$\\mathrm{cov}(\\mathrm{d}f,\\,f)$\", lw=2)\n",
    "    ax.plot(dt, k11, \":\", label=r\"$\\mathrm{cov}(\\mathrm{d}f,\\,\\mathrm{d}f)$\", lw=2)\n",
    "    ax.legend(fontsize=12, ncol=2)\n",
    "    ax.set_xlabel(r\"$\\tau$\")\n",
    "    # ax.set_ylabel(\"function value\")\n",
    "    ax.set_xlim(dt.min(), dt.max())\n",
    "    ylim = ax.get_ylim()\n",
    "    ax.set_ylim(ylim[0], ylim[1] * 1.4)\n",
    "\n",
    "    ax = axes[\"B\"]\n",
    "    ax.plot(dt - dt[0], y, \"k\")\n",
    "    ax.set_xlim(0, dt.max() - dt[0])\n",
    "    ax.set_ylabel(\"$f(t)$\")\n",
    "\n",
    "    ax = axes[\"C\"]\n",
    "    ax.plot(dt - dt[0], ydot, \"k\")\n",
    "    ax.set_xlim(0, dt.max() - dt[0])\n",
    "    ax.set_ylabel(r\"$\\mathrm{d}f(t) / \\mathrm{d}t$\")\n",
    "\n",
    "    axes[\"B\"].set_xticklabels([])\n",
    "    axes[\"C\"].set_xlabel(\"t\")\n",
    "\n",
    "    return fig\n",
    "\n",
    "\n",
    "# fig = plot_kernel(kernels.Matern52(scale=1.5))\n",
    "# fig.suptitle(\"Matérn-5/2\", fontsize=14)\n",
    "# plt.savefig(figures / \"kernel-ops1.pdf\", bbox_inches=\"tight\")\n",
    "\n",
    "fig = plot_kernel(kernels.ExpSquared(scale=1.5))\n",
    "fig.suptitle(r\"$k(\\tau) = \\exp\\left(-\\tau^2/2\\,{\\lambda}^2 \\right)$\", fontsize=14)\n",
    "fig.savefig(figures / \"kernel-ops1.pdf\", bbox_inches=\"tight\")\n",
    "\n",
    "fig = plot_kernel(\n",
    "    kernels.ExpSquared(scale=2.5) * kernels.ExpSineSquared(gamma=1.0, scale=3.5)\n",
    ")\n",
    "fig.suptitle(\n",
    "    r\"$k(\\tau) = \\exp\\left(-\\tau^2/2\\,{\\lambda_1}^2 - \\Gamma \\sin^2 \\pi\\,\\tau /\\lambda_2 \\right)$\",\n",
    "    fontsize=14,\n",
    ")\n",
    "fig.savefig(figures / \"kernel-ops2.pdf\", bbox_inches=\"tight\")"
   ]
  },
  {
   "cell_type": "code",
   "execution_count": null,
   "metadata": {},
   "outputs": [],
   "source": []
  }
 ],
 "metadata": {
  "kernelspec": {
   "display_name": "Python 3.10.5 ('araa-gps')",
   "language": "python",
   "name": "python3"
  },
  "language_info": {
   "codemirror_mode": {
    "name": "ipython",
    "version": 3
   },
   "file_extension": ".py",
   "mimetype": "text/x-python",
   "name": "python",
   "nbconvert_exporter": "python",
   "pygments_lexer": "ipython3",
   "version": "3.10.5"
  },
  "vscode": {
   "interpreter": {
    "hash": "37131511e6302b4c680d7a9231cad616a6dbde5e3e7bdd137309d00c60a9825b"
   }
  }
 },
 "nbformat": 4,
 "nbformat_minor": 2
}
