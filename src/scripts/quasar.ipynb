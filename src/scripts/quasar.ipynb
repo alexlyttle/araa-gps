{
 "cells": [
  {
   "cell_type": "markdown",
   "metadata": {},
   "source": [
    "# Fitting Quasar time delay"
   ]
  },
  {
   "cell_type": "code",
   "execution_count": null,
   "metadata": {},
   "outputs": [],
   "source": [
    "import warnings\n",
    "from functools import partial\n",
    "\n",
    "import arviz as az\n",
    "import corner\n",
    "import jax\n",
    "import jax.numpy as jnp\n",
    "import jaxopt\n",
    "import matplotlib.pyplot as plt\n",
    "import numpyro\n",
    "import tinygp\n",
    "from astropy.table import Table\n",
    "from numpyro import distributions as dist\n",
    "from numpyro import infer\n",
    "from tinygp import GaussianProcess, kernels, transforms\n",
    "import seaborn as sns\n",
    "\n",
    "from paths import data, figures"
   ]
  },
  {
   "cell_type": "markdown",
   "metadata": {},
   "source": [
    "Start by setting some configuration variables:"
   ]
  },
  {
   "cell_type": "code",
   "execution_count": null,
   "metadata": {},
   "outputs": [],
   "source": [
    "warnings.filterwarnings(\"ignore\", category=FutureWarning)\n",
    "numpyro.set_host_device_count(2)\n",
    "sns.set_context(\"notebook\")\n",
    "sns.set_style(\"ticks\")"
   ]
  },
  {
   "cell_type": "markdown",
   "metadata": {},
   "source": [
    "Next, load the data that was digitized from the manuscript on ADS: https://ui.adsabs.harvard.edu/abs/1989A%26A...215....1V/abstract"
   ]
  },
  {
   "cell_type": "code",
   "execution_count": null,
   "metadata": {},
   "outputs": [],
   "source": [
    "data = Table.read(data / \"quasar.csv\")"
   ]
  },
  {
   "cell_type": "markdown",
   "metadata": {},
   "source": [
    "Set up the custom GP kernel.\n",
    "More discussion of this kernel can be found on the tinygp docs here: https://tinygp.readthedocs.io/en/stable/tutorials/quasisep-custom.html#multivariate-quasiseparable-kernels\n",
    "The basic idea is that each input coordinate is a tuple `(t, band)` where `t` is the time and `band` is the band index (as an integer).\n",
    "We use the band index to select the kernel amplitude for that data point."
   ]
  },
  {
   "cell_type": "code",
   "execution_count": null,
   "metadata": {},
   "outputs": [],
   "source": [
    "@tinygp.helpers.dataclass\n",
    "class Multiband(kernels.quasisep.Wrapper):\n",
    "    amplitudes: jnp.ndarray\n",
    "\n",
    "    def coord_to_sortable(self, X):\n",
    "        return X[0]\n",
    "\n",
    "    def observation_model(self, X):\n",
    "        return self.amplitudes[X[1]] * self.kernel.observation_model(X[0])"
   ]
  },
  {
   "cell_type": "markdown",
   "metadata": {},
   "source": [
    "Now we also define functions for the mean and time delay operations.\n",
    "These also depend on the `band` index, as above."
   ]
  },
  {
   "cell_type": "code",
   "execution_count": null,
   "metadata": {},
   "outputs": [],
   "source": [
    "def time_delay_transform(lag, X):\n",
    "    t, band = X\n",
    "    return t - lag * band\n",
    "\n",
    "\n",
    "def mean_func(means, X):\n",
    "    t, band = X\n",
    "    return means[band]"
   ]
  },
  {
   "cell_type": "markdown",
   "metadata": {},
   "source": [
    "Finally, this is the usual tinyp inference setup (see the [tinygp docs](https://tinygp.readthedocs.io) for more details):"
   ]
  },
  {
   "cell_type": "code",
   "execution_count": null,
   "metadata": {},
   "outputs": [],
   "source": [
    "N = len(data)\n",
    "X = jnp.concatenate((data[\"jd\"].value, data[\"jd\"].value)), jnp.concatenate(\n",
    "    (jnp.zeros(N, dtype=int), jnp.ones(N, dtype=int))\n",
    ")\n",
    "y = jnp.concatenate((data[\"a_mag\"].value, data[\"b_mag\"].value))\n",
    "diag = jnp.concatenate((data[\"a_mag_err\"].value, data[\"b_mag_err\"].value)) ** 2\n",
    "\n",
    "\n",
    "def build_gp(params, X, diag):\n",
    "    band = X[1]\n",
    "    t = time_delay_transform(params[\"lag\"], X)\n",
    "    inds = jnp.argsort(t)\n",
    "    kernel = Multiband(\n",
    "        amplitudes=params[\"amps\"],\n",
    "        kernel=kernels.quasisep.Matern32(jnp.exp(params[\"log_ell\"])),\n",
    "    )\n",
    "    mean = partial(mean_func, params[\"means\"])\n",
    "    return (\n",
    "        GaussianProcess(kernel, (t[inds], band[inds]), diag=diag[inds], mean=mean),\n",
    "        inds,\n",
    "    )\n",
    "\n",
    "\n",
    "@jax.jit\n",
    "def loss(params):\n",
    "    gp, inds = build_gp(params, X, diag)\n",
    "    return -gp.log_probability(y[inds])\n",
    "\n",
    "\n",
    "init = {\n",
    "    \"lag\": 536.0,\n",
    "    \"log_ell\": jnp.log(100.0),\n",
    "    \"amps\": jnp.stack((jnp.std(data[\"a_mag\"].value), jnp.std(data[\"b_mag\"].value))),\n",
    "    \"means\": jnp.stack(\n",
    "        (jnp.median(data[\"a_mag\"].value), jnp.median(data[\"b_mag\"].value))\n",
    "    ),\n",
    "}\n",
    "loss(init)"
   ]
  },
  {
   "cell_type": "markdown",
   "metadata": {},
   "source": [
    "To find an initial guess for the time lag, do a set of optimizations starting from a grid of potential lags and select the minimum loss result.\n",
    "This is similar to the approach used by: https://ui.adsabs.harvard.edu/abs/1992ApJ...385..404P/abstract"
   ]
  },
  {
   "cell_type": "code",
   "execution_count": null,
   "metadata": {},
   "outputs": [],
   "source": [
    "opt = jaxopt.ScipyMinimize(fun=loss)\n",
    "\n",
    "minimum = loss(init), init\n",
    "lags = []\n",
    "vals = []\n",
    "for lag in jnp.linspace(0, 1000, 100):\n",
    "    init[\"lag\"] = lag\n",
    "    soln = opt.run(init)\n",
    "    lags.append(soln.params[\"lag\"])\n",
    "    vals.append(soln.state.fun_val)\n",
    "    if soln.state.fun_val < minimum[0]:\n",
    "        minimum = soln.state.fun_val, soln.params\n",
    "init = minimum[1]\n",
    "\n",
    "plt.plot(lags, vals, \".\", alpha=0.2)\n",
    "plt.xlabel(\"lag [days]\")\n",
    "plt.ylabel(\"loss minimized over other parameters\");"
   ]
  },
  {
   "cell_type": "markdown",
   "metadata": {},
   "source": [
    "Based on the best fit lag, define a grid of times where we'll evaluate the GP's predictive distribution."
   ]
  },
  {
   "cell_type": "code",
   "execution_count": null,
   "metadata": {},
   "outputs": [],
   "source": [
    "t_lagged = X[0] - minimum[1][\"lag\"] * X[1]\n",
    "t_grid = jnp.linspace(t_lagged.min() - 200, t_lagged.max() + 200, 1000)"
   ]
  },
  {
   "cell_type": "markdown",
   "metadata": {},
   "source": [
    "Now, set up the model in NumPyro and run MCMC:"
   ]
  },
  {
   "cell_type": "code",
   "execution_count": null,
   "metadata": {},
   "outputs": [],
   "source": [
    "def model(X, diag, y):\n",
    "    lag = numpyro.sample(\"lag\", dist.Uniform(0.0, 1000.0))\n",
    "    log_ell = numpyro.sample(\"log_ell\", dist.Uniform(jnp.log(10), jnp.log(1000.0)))\n",
    "    amps = numpyro.sample(\"amps\", dist.Uniform(-5.0, 5.0), sample_shape=(2,))\n",
    "    mean_a = numpyro.sample(\"mean_a\", dist.Uniform(17.0, 18.0))\n",
    "    delta_mean = numpyro.sample(\"delta_mean\", dist.Uniform(-2.0, 2.0))\n",
    "    means = jnp.stack((mean_a, mean_a + delta_mean))\n",
    "\n",
    "    params = {\n",
    "        \"lag\": lag,\n",
    "        \"log_ell\": log_ell,\n",
    "        \"amps\": amps,\n",
    "        \"means\": means,\n",
    "    }\n",
    "    gp, inds = build_gp(params, X, diag)\n",
    "    numpyro.sample(\"y\", gp.numpyro_dist(), obs=y[inds])\n",
    "\n",
    "    numpyro.deterministic(\n",
    "        \"pred_a\",\n",
    "        gp.condition(y[inds], (t_grid, jnp.zeros_like(t_grid, dtype=int))).gp.loc,\n",
    "    )\n",
    "    numpyro.deterministic(\n",
    "        \"pred_b\",\n",
    "        gp.condition(y[inds], (t_grid, jnp.ones_like(t_grid, dtype=int))).gp.loc,\n",
    "    )\n",
    "\n",
    "\n",
    "init_params = dict(minimum[1])\n",
    "init_params[\"mean_a\"] = init_params[\"means\"][0]\n",
    "init_params[\"delta_mean\"] = init_params[\"means\"][1] - init_params[\"means\"][0]\n",
    "sampler = infer.MCMC(\n",
    "    infer.NUTS(\n",
    "        model,\n",
    "        dense_mass=True,\n",
    "        target_accept_prob=0.9,\n",
    "        init_strategy=infer.init_to_value(values=init_params),\n",
    "    ),\n",
    "    num_warmup=1000,\n",
    "    num_samples=5000,\n",
    "    num_chains=2,\n",
    "    progress_bar=True,\n",
    ")\n",
    "%time sampler.run(jax.random.PRNGKey(12), X, diag, y)"
   ]
  },
  {
   "cell_type": "markdown",
   "metadata": {},
   "source": [
    "Check convergence using ArviZ. The `ess_bulk` gives an estimate of the effective sample size and `r_hat` should be close to 1."
   ]
  },
  {
   "cell_type": "code",
   "execution_count": null,
   "metadata": {},
   "outputs": [],
   "source": [
    "inf_data = az.from_numpyro(sampler)\n",
    "az.summary(inf_data, var_names=[\"lag\", \"delta_mean\"])"
   ]
  },
  {
   "cell_type": "markdown",
   "metadata": {},
   "source": [
    "Plot the inferred parameters and overplot the lag measured by https://ui.adsabs.harvard.edu/abs/1992ApJ...385..404P/abstract"
   ]
  },
  {
   "cell_type": "code",
   "execution_count": null,
   "metadata": {},
   "outputs": [],
   "source": [
    "corner.corner(\n",
    "    inf_data,\n",
    "    var_names=[\"lag\", \"delta_mean\"],\n",
    "    labels=[\"time lag [days]\", \"mean magnitude offset\"],\n",
    "    truths=[536.0, None],\n",
    ")\n",
    "plt.savefig(figures / \"quasar_posteriors.pdf\", bbox_inches=\"tight\")"
   ]
  },
  {
   "cell_type": "markdown",
   "metadata": {},
   "source": [
    "Overplot the predictive distributions on the shifted data:"
   ]
  },
  {
   "cell_type": "code",
   "execution_count": null,
   "metadata": {},
   "outputs": [],
   "source": [
    "samples = sampler.get_samples()\n",
    "lag = jnp.median(samples[\"lag\"])\n",
    "pred_a = samples[\"pred_a\"]\n",
    "pred_b = samples[\"pred_b\"]\n",
    "inds = jax.random.randint(jax.random.PRNGKey(134), (12,), 0, len(pred_a))\n",
    "\n",
    "offset = 0.3\n",
    "\n",
    "plt.figure()\n",
    "plt.plot(t_grid + lag, pred_a[inds, :].T, c=\"C0\", alpha=0.3, lw=0.5)\n",
    "plt.plot(t_grid + lag, pred_b[inds, :].T + offset, c=\"C1\", alpha=0.3, lw=0.5)\n",
    "\n",
    "plt.errorbar(\n",
    "    data[\"jd\"].value + lag,\n",
    "    data[\"a_mag\"].value,\n",
    "    yerr=data[\"a_mag_err\"].value,\n",
    "    fmt=\"oC0\",\n",
    "    label=\"A\",\n",
    "    markersize=4,\n",
    "    linewidth=1,\n",
    ")\n",
    "plt.errorbar(\n",
    "    data[\"jd\"].value,\n",
    "    data[\"b_mag\"].value + offset,\n",
    "    yerr=data[\"a_mag_err\"].value,\n",
    "    fmt=\"oC1\",\n",
    "    label=\"B\",\n",
    "    markerfacecolor=\"white\",\n",
    "    markersize=4,\n",
    "    linewidth=1,\n",
    ")\n",
    "plt.ylim(plt.ylim()[::-1])\n",
    "plt.xlabel(f\"time [days; A shifted +{lag:.0f} days]\")\n",
    "plt.ylabel(f\"magnitude [B shifted +{offset}]\")\n",
    "plt.xlim(t_grid.min() + lag, t_grid.max() + lag)\n",
    "plt.legend()\n",
    "plt.savefig(figures / \"quasar.pdf\", bbox_inches=\"tight\")"
   ]
  },
  {
   "cell_type": "code",
   "execution_count": null,
   "metadata": {},
   "outputs": [],
   "source": []
  }
 ],
 "metadata": {
  "kernelspec": {
   "display_name": "Python 3.10.5 ('araa-gps')",
   "language": "python",
   "name": "python3"
  },
  "language_info": {
   "codemirror_mode": {
    "name": "ipython",
    "version": 3
   },
   "file_extension": ".py",
   "mimetype": "text/x-python",
   "name": "python",
   "nbconvert_exporter": "python",
   "pygments_lexer": "ipython3",
   "version": "3.10.5"
  },
  "vscode": {
   "interpreter": {
    "hash": "37131511e6302b4c680d7a9231cad616a6dbde5e3e7bdd137309d00c60a9825b"
   }
  }
 },
 "nbformat": 4,
 "nbformat_minor": 2
}
